{
 "cells": [
  {
   "cell_type": "markdown",
   "metadata": {},
   "source": [
    "# Integrating Pandas with Scikit-Learn, an Exciting New Workflow\n",
    "\n",
    "## About Me - Ted Petrou\n",
    "\n",
    "* Author of Pandas Cookbook\n",
    "* Author of [Master Data Analysis with Python][2]\n",
    "* Founder of Dunder Data - Expert Data Science Instruction\n",
    "* Specialize in finding best practices to use the python data science ecosystem\n",
    "* Follow me on Twitter [@TedPetrou][3]\n",
    "\n",
    "## Make sure you have scikit-learn 0.20 installed\n",
    "\n",
    "## Major Objective\n",
    "* Teach latest and most robust workflows for those that use pandas for data exploration and scikit-learn for machine learning. \n",
    "* New features added to version 0.20 of scikit-learn in September, 2018\n",
    "\n",
    "[1]: https://scikit-learn.org/stable/whats_new.html#version-0-20-0\n",
    "[2]: https://online.dunderdata.com/courses/master-data-analysis-with-python-volume-1-foundations-of-data-exploration\n",
    "[3]: https://twitter.com/tedpetrou"
   ]
  },
  {
   "cell_type": "markdown",
   "metadata": {},
   "source": [
    "## 1. The Scikit-Learn Estimator\n",
    "* one primary type of object to do machine learning - the **estimator**.\n",
    "\n",
    "All estimators:\n",
    "* Learn from data\n",
    "* Are python types\n",
    "* Written in CamelCase\n",
    "* Use the three-step process: import, instantiate, fit\n",
    "\n",
    "Types of estimators:\n",
    "* Regressors - Supervised learning with continuous target\n",
    "* Transformers - Transform the input/output data\n",
    "* Meta-estimators - Learn from other estimators\n",
    "\n",
    "### Helper Functions\n",
    "\n",
    "### Finding estimators in the scikit-learn API\n",
    "[1]: https://scikit-learn.org/stable/glossary.html#class-apis-and-estimator-types"
   ]
  },
  {
   "cell_type": "code",
   "execution_count": null,
   "metadata": {},
   "outputs": [],
   "source": [
    "from IPython.display import IFrame\n",
    "IFrame('https://scikit-learn.org/stable/modules/classes.html', 800, 600)"
   ]
  },
  {
   "cell_type": "markdown",
   "metadata": {},
   "source": [
    "## Common Estimators and Helper Functions\n",
    "\n",
    "\n",
    "### House - Room - Object\n",
    "\n",
    "![](images/scikit_house.png)"
   ]
  },
  {
   "cell_type": "markdown",
   "metadata": {},
   "source": [
    "## The Housing Dataset\n",
    "* 80 variables\n",
    "* 1460 rows\n",
    "* Ames, Iowa 2006 - 2010\n",
    "\n",
    "[1]: https://www.kaggle.com/c/house-prices-advanced-regression-techniques"
   ]
  },
  {
   "cell_type": "code",
   "execution_count": null,
   "metadata": {},
   "outputs": [],
   "source": [
    "import pandas as pd\n",
    "hs = pd.read_csv('data/housing_sample.csv')\n",
    "hs.head()"
   ]
  },
  {
   "cell_type": "markdown",
   "metadata": {},
   "source": [
    "Get the shape, data types, and number of missing values:"
   ]
  },
  {
   "cell_type": "code",
   "execution_count": null,
   "metadata": {},
   "outputs": [],
   "source": []
  },
  {
   "cell_type": "code",
   "execution_count": null,
   "metadata": {},
   "outputs": [],
   "source": []
  },
  {
   "cell_type": "code",
   "execution_count": null,
   "metadata": {},
   "outputs": [],
   "source": []
  },
  {
   "cell_type": "code",
   "execution_count": null,
   "metadata": {},
   "outputs": [],
   "source": []
  },
  {
   "cell_type": "code",
   "execution_count": null,
   "metadata": {},
   "outputs": [],
   "source": []
  },
  {
   "cell_type": "code",
   "execution_count": null,
   "metadata": {},
   "outputs": [],
   "source": []
  },
  {
   "cell_type": "markdown",
   "metadata": {},
   "source": [
    "## Prepare Data - scikit-learn gotchas\n",
    "* No missing values\n",
    "* Use `X` and `y`\n",
    "\n",
    "### Model sale price with ground living area"
   ]
  },
  {
   "cell_type": "code",
   "execution_count": null,
   "metadata": {},
   "outputs": [],
   "source": []
  },
  {
   "cell_type": "code",
   "execution_count": null,
   "metadata": {},
   "outputs": [],
   "source": []
  },
  {
   "cell_type": "code",
   "execution_count": null,
   "metadata": {},
   "outputs": [],
   "source": []
  },
  {
   "cell_type": "code",
   "execution_count": null,
   "metadata": {},
   "outputs": [],
   "source": []
  },
  {
   "cell_type": "markdown",
   "metadata": {},
   "source": [
    "## Import, Instantiate, Fit — The three-step process for each estimator\n",
    "\n",
    "* **Import** the estimator from its module\n",
    "* **Instantiate** the estimator, possibly changing the (hyper)parameters\n",
    "* **Fit** the estimator to the data\n",
    "\n",
    "## Linear regression with the three-step process\n",
    "\n",
    "### Step 1: Import\n",
    "\n",
    "[1]: https://scikit-learn.org/stable/glossary.html#term-regressors"
   ]
  },
  {
   "cell_type": "code",
   "execution_count": null,
   "metadata": {},
   "outputs": [],
   "source": []
  },
  {
   "cell_type": "code",
   "execution_count": null,
   "metadata": {},
   "outputs": [],
   "source": []
  },
  {
   "cell_type": "code",
   "execution_count": null,
   "metadata": {},
   "outputs": [],
   "source": []
  },
  {
   "cell_type": "markdown",
   "metadata": {},
   "source": [
    "### Step 2: Instantiate"
   ]
  },
  {
   "cell_type": "code",
   "execution_count": null,
   "metadata": {},
   "outputs": [],
   "source": []
  },
  {
   "cell_type": "code",
   "execution_count": null,
   "metadata": {},
   "outputs": [],
   "source": []
  },
  {
   "cell_type": "code",
   "execution_count": null,
   "metadata": {},
   "outputs": [],
   "source": []
  },
  {
   "cell_type": "code",
   "execution_count": null,
   "metadata": {},
   "outputs": [],
   "source": []
  },
  {
   "cell_type": "markdown",
   "metadata": {},
   "source": [
    "### Step 3: Fit"
   ]
  },
  {
   "cell_type": "code",
   "execution_count": null,
   "metadata": {},
   "outputs": [],
   "source": []
  },
  {
   "cell_type": "code",
   "execution_count": null,
   "metadata": {},
   "outputs": [],
   "source": []
  },
  {
   "cell_type": "code",
   "execution_count": null,
   "metadata": {},
   "outputs": [],
   "source": []
  },
  {
   "cell_type": "code",
   "execution_count": null,
   "metadata": {},
   "outputs": [],
   "source": []
  },
  {
   "cell_type": "markdown",
   "metadata": {},
   "source": [
    "## Estimated Parameters - end in a single underscore"
   ]
  },
  {
   "cell_type": "code",
   "execution_count": null,
   "metadata": {},
   "outputs": [],
   "source": []
  },
  {
   "cell_type": "code",
   "execution_count": null,
   "metadata": {},
   "outputs": [],
   "source": []
  },
  {
   "cell_type": "code",
   "execution_count": null,
   "metadata": {},
   "outputs": [],
   "source": []
  },
  {
   "cell_type": "code",
   "execution_count": null,
   "metadata": {},
   "outputs": [],
   "source": []
  },
  {
   "cell_type": "markdown",
   "metadata": {},
   "source": [
    "## Make predictions"
   ]
  },
  {
   "cell_type": "code",
   "execution_count": null,
   "metadata": {},
   "outputs": [],
   "source": []
  },
  {
   "cell_type": "code",
   "execution_count": null,
   "metadata": {},
   "outputs": [],
   "source": []
  },
  {
   "cell_type": "code",
   "execution_count": null,
   "metadata": {},
   "outputs": [],
   "source": []
  },
  {
   "cell_type": "code",
   "execution_count": null,
   "metadata": {},
   "outputs": [],
   "source": []
  },
  {
   "cell_type": "code",
   "execution_count": null,
   "metadata": {},
   "outputs": [],
   "source": []
  },
  {
   "cell_type": "code",
   "execution_count": null,
   "metadata": {},
   "outputs": [],
   "source": []
  },
  {
   "cell_type": "markdown",
   "metadata": {},
   "source": [
    "## Summary of commands"
   ]
  },
  {
   "cell_type": "code",
   "execution_count": null,
   "metadata": {},
   "outputs": [],
   "source": [
    "hs = pd.read_csv('data/housing_sample.csv')\n",
    "X = hs[['GrLivArea']].values\n",
    "y = hs.pop('SalePrice').values\n",
    "\n",
    "from sklearn.linear_model import LinearRegression  # step 1 - import\n",
    "lr = LinearRegression()                            # step 2 - instantiate\n",
    "lr.fit(X, y)                                       # step 3 - fit\n",
    "\n",
    "lr.predict(X)"
   ]
  },
  {
   "cell_type": "markdown",
   "metadata": {},
   "source": [
    "## Exercise\n",
    "All other regression estimators use the same three-step process to learn from the data. Complete the three-step process for the following models:\n",
    "* K-nearest neighbors\n",
    "* Decision trees\n",
    "* Random Forests\n",
    "* Gradient Boosted trees\n",
    "\n",
    "The model learned can drastically change by setting the hyperparameters in step 2 during instantiation. We aren't concerned with hyperparameters at this point. Also, You may choose input data from other columns that have no missing values."
   ]
  },
  {
   "cell_type": "code",
   "execution_count": null,
   "metadata": {},
   "outputs": [],
   "source": []
  },
  {
   "cell_type": "code",
   "execution_count": null,
   "metadata": {},
   "outputs": [],
   "source": []
  },
  {
   "cell_type": "code",
   "execution_count": null,
   "metadata": {},
   "outputs": [],
   "source": []
  },
  {
   "cell_type": "code",
   "execution_count": null,
   "metadata": {},
   "outputs": [],
   "source": []
  },
  {
   "cell_type": "code",
   "execution_count": null,
   "metadata": {},
   "outputs": [],
   "source": []
  }
 ],
 "metadata": {
  "kernelspec": {
   "display_name": "Python 3",
   "language": "python",
   "name": "python3"
  },
  "language_info": {
   "codemirror_mode": {
    "name": "ipython",
    "version": 3
   },
   "file_extension": ".py",
   "mimetype": "text/x-python",
   "name": "python",
   "nbconvert_exporter": "python",
   "pygments_lexer": "ipython3",
   "version": "3.7.1"
  }
 },
 "nbformat": 4,
 "nbformat_minor": 2
}
