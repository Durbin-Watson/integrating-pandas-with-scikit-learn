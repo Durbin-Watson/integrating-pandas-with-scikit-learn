{
 "cells": [
  {
   "cell_type": "markdown",
   "metadata": {},
   "source": [
    "# Integrating Pandas with Scikit-Learn, an Exciting New Workflow\n",
    "\n",
    "## About Me - Ted Petrou\n",
    "\n",
    "* Author of Pandas Cookbook\n",
    "* Author of [Master Data Analysis with Python][2]\n",
    "* Founder of Dunder Data - Expert Data Science Instruction\n",
    "* Specialize in finding best practices to use the python data science ecosystem\n",
    "* Follow me on Twitter [@TedPetrou][3]\n",
    "\n",
    "## Major Objective\n",
    "The major objective of this tutorial is to teach the latest and most robust workflows for those that use pandas for data exploration and scikit-learn for machine learning. The primary focus will be on the new features added to version 0.20 of scikit-learn in September, 2018. [See the changelog here][1] for a list of all the new features.\n",
    "\n",
    "[1]: https://scikit-learn.org/stable/whats_new.html#version-0-20-0\n",
    "[2]: https://online.dunderdata.com/courses/master-data-analysis-with-python-volume-1-foundations-of-data-exploration\n",
    "[3]: https://twitter.com/tedpetrou"
   ]
  },
  {
   "cell_type": "markdown",
   "metadata": {},
   "source": [
    "## 1. The Scikit-Learn Estimator\n",
    "The scikit-learn library has one primary type of object to do machine learning - the **estimator**.\n",
    "\n",
    "All estimators:\n",
    "* Learn from data\n",
    "* Are python types\n",
    "* Written in CamelCase\n",
    "* Use the three-step process: import, instantiate, fit\n",
    "\n",
    "Types of estimators:\n",
    "The following are common types of estimators. [Visit the glossary][1] to see more types.\n",
    "* Regressors - Supervised learning with continuous target\n",
    "* Classifiers - Supervised learning with categorical target\n",
    "* Clusterers - Unsupervised learning\n",
    "* Transformers - Transform the input/output data\n",
    "* Meta-estimators - Learn from other estimators\n",
    "\n",
    "### Helper Functions\n",
    "Nearly every object in scikit-learn is either an estimator or **helper function**. The helper functions perform a single task and written in snake_case.\n",
    "\n",
    "### Finding estimators in the scikit-learn API\n",
    "The scikit-learn package is divided neatly into about 35 modules. Most modules contain several estimators. It can be valuable to take a look at the entire scikit-learn API to help learn which module an estimator is located in. Note that the estimators (CamelCase) are listed first in the modules followed by the helper functions. We display the API in the notebook below.\n",
    "\n",
    "[1]: https://scikit-learn.org/stable/glossary.html#class-apis-and-estimator-types"
   ]
  },
  {
   "cell_type": "code",
   "execution_count": null,
   "metadata": {},
   "outputs": [],
   "source": [
    "from IPython.display import IFrame\n",
    "IFrame('https://scikit-learn.org/stable/modules/classes.html', 800, 600)"
   ]
  },
  {
   "cell_type": "markdown",
   "metadata": {},
   "source": [
    "## Common Estimators and Helper Functions\n",
    "\n",
    "The complete API above is huge with many estimators and helper functions needed only for very specific circumstances.\n",
    "\n",
    "### House - Room - Object\n",
    "I like to analogize scikit-learn to a house, where the modules are the rooms, and the estimators and helper functions are the objects in the room. The following house consolidates the most common estimators and helper functions into one diagram.\n",
    "\n",
    "![](images/scikit_house.png)"
   ]
  },
  {
   "cell_type": "markdown",
   "metadata": {},
   "source": [
    "## The Housing Dataset\n",
    "We will be using the housing dataset from the [\"Advanced Regression Techniques\" Kaggle competition][1] for the entire tutorial. The full training dataset contains 80 explanatory variables along with the sale price target variable on 1460 houses from the city of Ames, Iowa for houses sold from 2006 to 2010. We will begin by reading in the housing_sample dataset which contains a small subset of the columns.\n",
    "\n",
    "[1]: https://www.kaggle.com/c/house-prices-advanced-regression-techniques"
   ]
  },
  {
   "cell_type": "code",
   "execution_count": null,
   "metadata": {},
   "outputs": [],
   "source": [
    "import pandas as pd\n",
    "hs = pd.read_csv('data/housing_sample.csv')\n",
    "hs.head()"
   ]
  },
  {
   "cell_type": "markdown",
   "metadata": {},
   "source": [
    "Get the shape, data types, and number of missing values:"
   ]
  },
  {
   "cell_type": "code",
   "execution_count": null,
   "metadata": {
    "scrolled": true
   },
   "outputs": [],
   "source": [
    "hs.shape"
   ]
  },
  {
   "cell_type": "code",
   "execution_count": null,
   "metadata": {},
   "outputs": [],
   "source": [
    "hs.dtypes"
   ]
  },
  {
   "cell_type": "code",
   "execution_count": null,
   "metadata": {},
   "outputs": [],
   "source": [
    "hs.isna().sum()"
   ]
  },
  {
   "cell_type": "markdown",
   "metadata": {},
   "source": [
    "## Prepare Data - scikit-learn gotchas\n",
    "\n",
    "Before we can learn from the data, we need to prepare it so that it works with scikit-learn estimators. \n",
    "\n",
    "* Assign input data to `X` and output to `y` - convention used throughout scikit-learn documentation\n",
    "* Input data must be two-dimensional\n",
    "* Input data must be numeric (no strings)\n",
    "* Input and output data cannot contain missing values\n",
    "\n",
    "Some transformers can handle data that is non-numeric or contains missing values but all the machine learning estimators (regressors, classifiers, and clusterers) cannot.\n",
    "\n",
    "### Model sale price with ground living area\n",
    "\n",
    "Let's use the ground living area to model the sale price of the house and extract the data into numpy arrays. It is possible to keep the data in a pandas DataFrames/Series but scikit-learn has historically been designed to work with numpy arrays. Note that we use the `pop` method to completely remove the `SalePrice` column from our DataFrame."
   ]
  },
  {
   "cell_type": "code",
   "execution_count": null,
   "metadata": {},
   "outputs": [],
   "source": [
    "X = hs[['GrLivArea']].values\n",
    "y = hs.pop('SalePrice').values"
   ]
  },
  {
   "cell_type": "markdown",
   "metadata": {},
   "source": [
    "View the first 5 input and output values. Notice that X is two dimensional."
   ]
  },
  {
   "cell_type": "code",
   "execution_count": null,
   "metadata": {},
   "outputs": [],
   "source": [
    "X[:5]"
   ]
  },
  {
   "cell_type": "code",
   "execution_count": null,
   "metadata": {},
   "outputs": [],
   "source": [
    "y[:5]"
   ]
  },
  {
   "cell_type": "markdown",
   "metadata": {},
   "source": [
    "## Import, Instantiate, Fit — The three-step process for each estimator\n",
    "The scikit-learn API is consistent for all estimators and uses the same three-step process to learn from the data.\n",
    "\n",
    "* **Import** the estimator from its module\n",
    "* **Instantiate** the estimator, possibly changing the (hyper)parameters\n",
    "* **Fit** the estimator to the data\n",
    "\n",
    "## Linear regression with the three-step process\n",
    "\n",
    "For this problem, we need to use an estimator that is a [Regressor][1] - one that models target variables with continuous values such as sale price. The word 'Regressor' is often contained within the names of these estimators. Specifically, we will do linear regression by importing the `LinearRegression` estimator from the `linear_model` module.\n",
    "\n",
    "### Step 1: Import\n",
    "Open up the scikit-learn house (package), go to the `linear_model` room (module) and select the `LinearRegression` object (estimator) to import.\n",
    "\n",
    "[1]: https://scikit-learn.org/stable/glossary.html#term-regressors"
   ]
  },
  {
   "cell_type": "code",
   "execution_count": null,
   "metadata": {},
   "outputs": [],
   "source": [
    "from sklearn.linear_model import LinearRegression"
   ]
  },
  {
   "cell_type": "markdown",
   "metadata": {},
   "source": [
    "### Step 2: Instantiate\n",
    "The `LinearRegression` object above is merely a blueprint. We must instantiate it (construct an instance of the class) in order to have an object that can learn from the data. I sometimes refer to this as \"constructing the machine learning vehicle\" from the blueprint. I typically use the first letters of each word of the estimator class name as the variable name for the instance."
   ]
  },
  {
   "cell_type": "code",
   "execution_count": null,
   "metadata": {},
   "outputs": [],
   "source": [
    "lr = LinearRegression()"
   ]
  },
  {
   "cell_type": "markdown",
   "metadata": {},
   "source": [
    "### Step 3: Fit\n",
    "All estimators learn from the data via the `fit` method. In this particular case, the estimator learns the parameters of the linear regression model (the slope and intercept) that result in the minimum squared error."
   ]
  },
  {
   "cell_type": "code",
   "execution_count": null,
   "metadata": {},
   "outputs": [],
   "source": [
    "lr.fit(X, y)"
   ]
  },
  {
   "cell_type": "markdown",
   "metadata": {},
   "source": [
    "## Estimated Parameters - end in a single underscore\n",
    "scikit-learn stores parameters learned from the data as public attributes that end in a single underscore. For linear regression, it stores the intercept and coefficient (slope) as separate attributes."
   ]
  },
  {
   "cell_type": "code",
   "execution_count": null,
   "metadata": {},
   "outputs": [],
   "source": [
    "lr.intercept_"
   ]
  },
  {
   "cell_type": "code",
   "execution_count": null,
   "metadata": {},
   "outputs": [],
   "source": [
    "lr.coef_"
   ]
  },
  {
   "cell_type": "markdown",
   "metadata": {},
   "source": [
    "## Make predictions\n",
    "Once the model is trained, you will be able to use the `predict` method to make predictions. Pass it an input array with the same type of data used during training. Here, we predict using our original training data."
   ]
  },
  {
   "cell_type": "code",
   "execution_count": null,
   "metadata": {},
   "outputs": [],
   "source": [
    "lr.predict(X)"
   ]
  },
  {
   "cell_type": "markdown",
   "metadata": {},
   "source": [
    "## Summary of commands"
   ]
  },
  {
   "cell_type": "code",
   "execution_count": null,
   "metadata": {},
   "outputs": [],
   "source": [
    "hs = pd.read_csv('data/housing_sample.csv')\n",
    "X = hs[['GrLivArea']].values\n",
    "y = hs.pop('SalePrice').values\n",
    "\n",
    "from sklearn.linear_model import LinearRegression  # step 1 - import\n",
    "lr = LinearRegression()                            # step 2 - instantiate\n",
    "lr.fit(X, y)                                       # step 3 - fit\n",
    "\n",
    "lr.predict(X)"
   ]
  },
  {
   "cell_type": "markdown",
   "metadata": {},
   "source": [
    "## Exercise\n",
    "All other regression estimators use the same three-step process to learn from the data. Complete the three-step process for the following models:\n",
    "* K-nearest neighbors\n",
    "* Decision trees\n",
    "* Random Forests\n",
    "* Gradient Boosted trees\n",
    "\n",
    "The model learned can drastically change by setting the hyperparameters in step 2 during instantiation. We aren't concerned with hyperparameters at this point. Also, You may choose input data from other columns that have no missing values."
   ]
  },
  {
   "cell_type": "code",
   "execution_count": null,
   "metadata": {},
   "outputs": [],
   "source": []
  },
  {
   "cell_type": "code",
   "execution_count": null,
   "metadata": {},
   "outputs": [],
   "source": []
  },
  {
   "cell_type": "code",
   "execution_count": null,
   "metadata": {},
   "outputs": [],
   "source": []
  },
  {
   "cell_type": "code",
   "execution_count": null,
   "metadata": {},
   "outputs": [],
   "source": []
  },
  {
   "cell_type": "code",
   "execution_count": null,
   "metadata": {},
   "outputs": [],
   "source": []
  }
 ],
 "metadata": {
  "kernelspec": {
   "display_name": "Python 3",
   "language": "python",
   "name": "python3"
  },
  "language_info": {
   "codemirror_mode": {
    "name": "ipython",
    "version": 3
   },
   "file_extension": ".py",
   "mimetype": "text/x-python",
   "name": "python",
   "nbconvert_exporter": "python",
   "pygments_lexer": "ipython3",
   "version": "3.7.3"
  }
 },
 "nbformat": 4,
 "nbformat_minor": 2
}
